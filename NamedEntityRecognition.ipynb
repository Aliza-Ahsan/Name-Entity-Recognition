{
 "cells": [
  {
   "cell_type": "code",
   "execution_count": 1,
   "id": "e78114b2",
   "metadata": {
    "_cell_guid": "b1076dfc-b9ad-4769-8c92-a6c4dae69d19",
    "_uuid": "8f2839f25d086af736a60e9eeb907d3b93b6e0e5",
    "execution": {
     "iopub.execute_input": "2025-03-25T16:43:11.199724Z",
     "iopub.status.busy": "2025-03-25T16:43:11.199445Z",
     "iopub.status.idle": "2025-03-25T16:43:12.438970Z",
     "shell.execute_reply": "2025-03-25T16:43:12.437944Z"
    },
    "papermill": {
     "duration": 1.252209,
     "end_time": "2025-03-25T16:43:12.440396",
     "exception": false,
     "start_time": "2025-03-25T16:43:11.188187",
     "status": "completed"
    },
    "tags": []
   },
   "outputs": [
    {
     "name": "stdout",
     "output_type": "stream",
     "text": [
      "/kaggle/input/entity-annotated-corpus/ner.csv\n",
      "/kaggle/input/entity-annotated-corpus/ner_dataset.csv\n"
     ]
    }
   ],
   "source": [
    "# This Python 3 environment comes with many helpful analytics libraries installed\n",
    "# It is defined by the kaggle/python Docker image: https://github.com/kaggle/docker-python\n",
    "# For example, here's several helpful packages to load\n",
    "\n",
    "import numpy as np # linear algebra\n",
    "import pandas as pd # data processing, CSV file I/O (e.g. pd.read_csv)\n",
    "\n",
    "# Input data files are available in the read-only \"../input/\" directory\n",
    "# For example, running this (by clicking run or pressing Shift+Enter) will list all files under the input directory\n",
    "\n",
    "import os\n",
    "for dirname, _, filenames in os.walk('/kaggle/input'):\n",
    "    for filename in filenames:\n",
    "        print(os.path.join(dirname, filename))\n",
    "\n",
    "# You can write up to 20GB to the current directory (/kaggle/working/) that gets preserved as output when you create a version using \"Save & Run All\" \n",
    "# You can also write temporary files to /kaggle/temp/, but they won't be saved outside of the current session"
   ]
  },
  {
   "cell_type": "code",
   "execution_count": 2,
   "id": "8e477fa7",
   "metadata": {
    "execution": {
     "iopub.execute_input": "2025-03-25T16:43:12.461697Z",
     "iopub.status.busy": "2025-03-25T16:43:12.461363Z",
     "iopub.status.idle": "2025-03-25T16:43:29.053460Z",
     "shell.execute_reply": "2025-03-25T16:43:29.052462Z"
    },
    "papermill": {
     "duration": 16.604062,
     "end_time": "2025-03-25T16:43:29.054725",
     "exception": false,
     "start_time": "2025-03-25T16:43:12.450663",
     "status": "completed"
    },
    "tags": []
   },
   "outputs": [
    {
     "name": "stdout",
     "output_type": "stream",
     "text": [
      "Tensorflow version: 2.17.1\n"
     ]
    }
   ],
   "source": [
    "%matplotlib inline\n",
    "import matplotlib.pyplot as plt\n",
    "np.random.seed(0)\n",
    "plt.style.use(\"ggplot\")\n",
    "\n",
    "import tensorflow as tf\n",
    "print('Tensorflow version:', tf.__version__)"
   ]
  },
  {
   "cell_type": "code",
   "execution_count": 3,
   "id": "09731aec",
   "metadata": {
    "execution": {
     "iopub.execute_input": "2025-03-25T16:43:29.076093Z",
     "iopub.status.busy": "2025-03-25T16:43:29.075600Z",
     "iopub.status.idle": "2025-03-25T16:43:29.080079Z",
     "shell.execute_reply": "2025-03-25T16:43:29.079176Z"
    },
    "papermill": {
     "duration": 0.016246,
     "end_time": "2025-03-25T16:43:29.081422",
     "exception": false,
     "start_time": "2025-03-25T16:43:29.065176",
     "status": "completed"
    },
    "tags": []
   },
   "outputs": [
    {
     "name": "stdout",
     "output_type": "stream",
     "text": [
      "['entity-annotated-corpus']\n"
     ]
    }
   ],
   "source": [
    "print(os.listdir('../input'))\n"
   ]
  },
  {
   "cell_type": "code",
   "execution_count": 4,
   "id": "814a0036",
   "metadata": {
    "execution": {
     "iopub.execute_input": "2025-03-25T16:43:29.102231Z",
     "iopub.status.busy": "2025-03-25T16:43:29.101998Z",
     "iopub.status.idle": "2025-03-25T16:43:29.107843Z",
     "shell.execute_reply": "2025-03-25T16:43:29.107061Z"
    },
    "papermill": {
     "duration": 0.017854,
     "end_time": "2025-03-25T16:43:29.109221",
     "exception": false,
     "start_time": "2025-03-25T16:43:29.091367",
     "status": "completed"
    },
    "tags": []
   },
   "outputs": [],
   "source": [
    "# Distribution graphs (histogram/bar graph) of column data\n",
    "def plotPerColumnDistribution(df, nGraphShown, nGraphPerRow):\n",
    "    nunique = df.nunique()\n",
    "    df = df[[col for col in df if nunique[col] > 1 and nunique[col] < 50]] # For displaying purposes, pick columns that have between 1 and 50 unique values\n",
    "    nRow, nCol = df.shape\n",
    "    columnNames = list(df)\n",
    "    nGraphRow = (nCol + nGraphPerRow - 1) / nGraphPerRow\n",
    "    plt.figure(num = None, figsize = (6 * nGraphPerRow, 8 * nGraphRow), dpi = 80, facecolor = 'w', edgecolor = 'k')\n",
    "    for i in range(min(nCol, nGraphShown)):\n",
    "        plt.subplot(nGraphRow, nGraphPerRow, i + 1)\n",
    "        columnDf = df.iloc[:, i]\n",
    "        if (not np.issubdtype(type(columnDf.iloc[0]), np.number)):\n",
    "            valueCounts = columnDf.value_counts()\n",
    "            valueCounts.plot.bar()\n",
    "        else:\n",
    "            columnDf.hist()\n",
    "        plt.ylabel('counts')\n",
    "        plt.xticks(rotation = 90)\n",
    "        plt.title(f'{columnNames[i]} (column {i})')\n",
    "    plt.tight_layout(pad = 1.0, w_pad = 1.0, h_pad = 1.0)\n",
    "    plt.show()"
   ]
  },
  {
   "cell_type": "code",
   "execution_count": 5,
   "id": "20e6aacf",
   "metadata": {
    "execution": {
     "iopub.execute_input": "2025-03-25T16:43:29.129590Z",
     "iopub.status.busy": "2025-03-25T16:43:29.129372Z",
     "iopub.status.idle": "2025-03-25T16:43:29.134416Z",
     "shell.execute_reply": "2025-03-25T16:43:29.133603Z"
    },
    "papermill": {
     "duration": 0.016792,
     "end_time": "2025-03-25T16:43:29.135704",
     "exception": false,
     "start_time": "2025-03-25T16:43:29.118912",
     "status": "completed"
    },
    "tags": []
   },
   "outputs": [],
   "source": [
    "# Correlation matrix\n",
    "def plotCorrelationMatrix(df, graphWidth):\n",
    "    filename = df.dataframeName\n",
    "    df = df.dropna('columns') # drop columns with NaN\n",
    "    df = df[[col for col in df if df[col].nunique() > 1]] # keep columns where there are more than 1 unique values\n",
    "    if df.shape[1] < 2:\n",
    "        print(f'No correlation plots shown: The number of non-NaN or constant columns ({df.shape[1]}) is less than 2')\n",
    "        return\n",
    "    corr = df.corr()\n",
    "    plt.figure(num=None, figsize=(graphWidth, graphWidth), dpi=80, facecolor='w', edgecolor='k')\n",
    "    corrMat = plt.matshow(corr, fignum = 1)\n",
    "    plt.xticks(range(len(corr.columns)), corr.columns, rotation=90)\n",
    "    plt.yticks(range(len(corr.columns)), corr.columns)\n",
    "    plt.gca().xaxis.tick_bottom()\n",
    "    plt.colorbar(corrMat)\n",
    "    plt.title(f'Correlation Matrix for {filename}', fontsize=15)\n",
    "    plt.show()"
   ]
  },
  {
   "cell_type": "code",
   "execution_count": 6,
   "id": "0b20ab60",
   "metadata": {
    "execution": {
     "iopub.execute_input": "2025-03-25T16:43:29.155998Z",
     "iopub.status.busy": "2025-03-25T16:43:29.155755Z",
     "iopub.status.idle": "2025-03-25T16:43:29.160837Z",
     "shell.execute_reply": "2025-03-25T16:43:29.160068Z"
    },
    "papermill": {
     "duration": 0.016837,
     "end_time": "2025-03-25T16:43:29.162224",
     "exception": false,
     "start_time": "2025-03-25T16:43:29.145387",
     "status": "completed"
    },
    "tags": []
   },
   "outputs": [],
   "source": [
    "# Scatter and density plots\n",
    "def plotScatterMatrix(df, plotSize, textSize):\n",
    "    df = df.select_dtypes(include =[np.number]) # keep only numerical columns\n",
    "    # Remove rows and columns that would lead to df being singular\n",
    "    df = df.dropna('columns')\n",
    "    df = df[[col for col in df if df[col].nunique() > 1]] # keep columns where there are more than 1 unique values\n",
    "    columnNames = list(df)\n",
    "    if len(columnNames) > 10: # reduce the number of columns for matrix inversion of kernel density plots\n",
    "        columnNames = columnNames[:10]\n",
    "    df = df[columnNames]\n",
    "    ax = pd.plotting.scatter_matrix(df, alpha=0.75, figsize=[plotSize, plotSize], diagonal='kde')\n",
    "    corrs = df.corr().values\n",
    "    for i, j in zip(*plt.np.triu_indices_from(ax, k = 1)):\n",
    "        ax[i, j].annotate('Corr. coef = %.3f' % corrs[i, j], (0.8, 0.2), xycoords='axes fraction', ha='center', va='center', size=textSize)\n",
    "    plt.suptitle('Scatter and Density Plot')\n",
    "    plt.show()"
   ]
  },
  {
   "cell_type": "markdown",
   "id": "b52d2f95",
   "metadata": {
    "papermill": {
     "duration": 0.009446,
     "end_time": "2025-03-25T16:43:29.181428",
     "exception": false,
     "start_time": "2025-03-25T16:43:29.171982",
     "status": "completed"
    },
    "tags": []
   },
   "source": [
    "## 1. Dataset Preprocessing"
   ]
  },
  {
   "cell_type": "code",
   "execution_count": 7,
   "id": "47b02bcb",
   "metadata": {
    "execution": {
     "iopub.execute_input": "2025-03-25T16:43:29.202114Z",
     "iopub.status.busy": "2025-03-25T16:43:29.201835Z",
     "iopub.status.idle": "2025-03-25T16:43:29.772422Z",
     "shell.execute_reply": "2025-03-25T16:43:29.771310Z"
    },
    "papermill": {
     "duration": 0.582457,
     "end_time": "2025-03-25T16:43:29.774007",
     "exception": false,
     "start_time": "2025-03-25T16:43:29.191550",
     "status": "completed"
    },
    "tags": []
   },
   "outputs": [
    {
     "name": "stdout",
     "output_type": "stream",
     "text": [
      "There are 1048575 rows and 4 columns\n"
     ]
    }
   ],
   "source": [
    "nRowsRead = None # specify 'None' if want to read whole file\n",
    "# ner_dataset.csv may have more rows in reality, but we are only loading/previewing the first 1000 rows\n",
    "df2 = pd.read_csv('/kaggle/input/entity-annotated-corpus/ner_dataset.csv', delimiter=',', nrows = nRowsRead, encoding='cp1252')\n",
    "df2.dataframeName = 'ner_dataset.csv'\n",
    "nRow, nCol = df2.shape\n",
    "print(f'There are {nRow} rows and {nCol} columns')"
   ]
  },
  {
   "cell_type": "code",
   "execution_count": 8,
   "id": "69a6f4b8",
   "metadata": {
    "execution": {
     "iopub.execute_input": "2025-03-25T16:43:29.796320Z",
     "iopub.status.busy": "2025-03-25T16:43:29.796071Z",
     "iopub.status.idle": "2025-03-25T16:43:29.815242Z",
     "shell.execute_reply": "2025-03-25T16:43:29.814499Z"
    },
    "papermill": {
     "duration": 0.031518,
     "end_time": "2025-03-25T16:43:29.816369",
     "exception": false,
     "start_time": "2025-03-25T16:43:29.784851",
     "status": "completed"
    },
    "tags": []
   },
   "outputs": [
    {
     "data": {
      "text/html": [
       "<div>\n",
       "<style scoped>\n",
       "    .dataframe tbody tr th:only-of-type {\n",
       "        vertical-align: middle;\n",
       "    }\n",
       "\n",
       "    .dataframe tbody tr th {\n",
       "        vertical-align: top;\n",
       "    }\n",
       "\n",
       "    .dataframe thead th {\n",
       "        text-align: right;\n",
       "    }\n",
       "</style>\n",
       "<table border=\"1\" class=\"dataframe\">\n",
       "  <thead>\n",
       "    <tr style=\"text-align: right;\">\n",
       "      <th></th>\n",
       "      <th>Sentence #</th>\n",
       "      <th>Word</th>\n",
       "      <th>POS</th>\n",
       "      <th>Tag</th>\n",
       "    </tr>\n",
       "  </thead>\n",
       "  <tbody>\n",
       "    <tr>\n",
       "      <th>0</th>\n",
       "      <td>Sentence: 1</td>\n",
       "      <td>Thousands</td>\n",
       "      <td>NNS</td>\n",
       "      <td>O</td>\n",
       "    </tr>\n",
       "    <tr>\n",
       "      <th>1</th>\n",
       "      <td>NaN</td>\n",
       "      <td>of</td>\n",
       "      <td>IN</td>\n",
       "      <td>O</td>\n",
       "    </tr>\n",
       "    <tr>\n",
       "      <th>2</th>\n",
       "      <td>NaN</td>\n",
       "      <td>demonstrators</td>\n",
       "      <td>NNS</td>\n",
       "      <td>O</td>\n",
       "    </tr>\n",
       "    <tr>\n",
       "      <th>3</th>\n",
       "      <td>NaN</td>\n",
       "      <td>have</td>\n",
       "      <td>VBP</td>\n",
       "      <td>O</td>\n",
       "    </tr>\n",
       "    <tr>\n",
       "      <th>4</th>\n",
       "      <td>NaN</td>\n",
       "      <td>marched</td>\n",
       "      <td>VBN</td>\n",
       "      <td>O</td>\n",
       "    </tr>\n",
       "    <tr>\n",
       "      <th>5</th>\n",
       "      <td>NaN</td>\n",
       "      <td>through</td>\n",
       "      <td>IN</td>\n",
       "      <td>O</td>\n",
       "    </tr>\n",
       "    <tr>\n",
       "      <th>6</th>\n",
       "      <td>NaN</td>\n",
       "      <td>London</td>\n",
       "      <td>NNP</td>\n",
       "      <td>B-geo</td>\n",
       "    </tr>\n",
       "    <tr>\n",
       "      <th>7</th>\n",
       "      <td>NaN</td>\n",
       "      <td>to</td>\n",
       "      <td>TO</td>\n",
       "      <td>O</td>\n",
       "    </tr>\n",
       "    <tr>\n",
       "      <th>8</th>\n",
       "      <td>NaN</td>\n",
       "      <td>protest</td>\n",
       "      <td>VB</td>\n",
       "      <td>O</td>\n",
       "    </tr>\n",
       "    <tr>\n",
       "      <th>9</th>\n",
       "      <td>NaN</td>\n",
       "      <td>the</td>\n",
       "      <td>DT</td>\n",
       "      <td>O</td>\n",
       "    </tr>\n",
       "  </tbody>\n",
       "</table>\n",
       "</div>"
      ],
      "text/plain": [
       "    Sentence #           Word  POS    Tag\n",
       "0  Sentence: 1      Thousands  NNS      O\n",
       "1          NaN             of   IN      O\n",
       "2          NaN  demonstrators  NNS      O\n",
       "3          NaN           have  VBP      O\n",
       "4          NaN        marched  VBN      O\n",
       "5          NaN        through   IN      O\n",
       "6          NaN         London  NNP  B-geo\n",
       "7          NaN             to   TO      O\n",
       "8          NaN        protest   VB      O\n",
       "9          NaN            the   DT      O"
      ]
     },
     "execution_count": 8,
     "metadata": {},
     "output_type": "execute_result"
    }
   ],
   "source": [
    "df2.head(10)\n"
   ]
  },
  {
   "cell_type": "code",
   "execution_count": 9,
   "id": "2920c9c4",
   "metadata": {
    "execution": {
     "iopub.execute_input": "2025-03-25T16:43:29.837532Z",
     "iopub.status.busy": "2025-03-25T16:43:29.837282Z",
     "iopub.status.idle": "2025-03-25T16:43:29.898565Z",
     "shell.execute_reply": "2025-03-25T16:43:29.897713Z"
    },
    "papermill": {
     "duration": 0.073347,
     "end_time": "2025-03-25T16:43:29.899817",
     "exception": false,
     "start_time": "2025-03-25T16:43:29.826470",
     "status": "completed"
    },
    "tags": []
   },
   "outputs": [
    {
     "name": "stdout",
     "output_type": "stream",
     "text": [
      "Label distribution Training set:\n",
      "Tag\n",
      "O        887908\n",
      "B-geo     37644\n",
      "B-tim     20333\n",
      "B-org     20143\n",
      "I-per     17251\n",
      "B-per     16990\n",
      "I-org     16784\n",
      "B-gpe     15870\n",
      "I-geo      7414\n",
      "I-tim      6528\n",
      "B-art       402\n",
      "B-eve       308\n",
      "I-art       297\n",
      "I-eve       253\n",
      "B-nat       201\n",
      "I-gpe       198\n",
      "I-nat        51\n",
      "Name: count, dtype: int64\n"
     ]
    }
   ],
   "source": [
    "print('Label distribution Training set:')\n",
    "print(df2['Tag'].value_counts())"
   ]
  },
  {
   "cell_type": "code",
   "execution_count": 10,
   "id": "dbfe8f2b",
   "metadata": {
    "execution": {
     "iopub.execute_input": "2025-03-25T16:43:29.921100Z",
     "iopub.status.busy": "2025-03-25T16:43:29.920802Z",
     "iopub.status.idle": "2025-03-25T16:43:30.088722Z",
     "shell.execute_reply": "2025-03-25T16:43:30.087798Z"
    },
    "papermill": {
     "duration": 0.18026,
     "end_time": "2025-03-25T16:43:30.090214",
     "exception": false,
     "start_time": "2025-03-25T16:43:29.909954",
     "status": "completed"
    },
    "tags": []
   },
   "outputs": [
    {
     "data": {
      "text/plain": [
       "Sentence #    1000616\n",
       "Word               10\n",
       "POS                 0\n",
       "Tag                 0\n",
       "dtype: int64"
      ]
     },
     "execution_count": 10,
     "metadata": {},
     "output_type": "execute_result"
    }
   ],
   "source": [
    "df2.isnull().sum()\n"
   ]
  },
  {
   "cell_type": "code",
   "execution_count": 11,
   "id": "0ebc5c90",
   "metadata": {
    "execution": {
     "iopub.execute_input": "2025-03-25T16:43:30.112177Z",
     "iopub.status.busy": "2025-03-25T16:43:30.111951Z",
     "iopub.status.idle": "2025-03-25T16:43:30.594141Z",
     "shell.execute_reply": "2025-03-25T16:43:30.593005Z"
    },
    "papermill": {
     "duration": 0.494345,
     "end_time": "2025-03-25T16:43:30.595603",
     "exception": false,
     "start_time": "2025-03-25T16:43:30.101258",
     "status": "completed"
    },
    "tags": []
   },
   "outputs": [
    {
     "name": "stderr",
     "output_type": "stream",
     "text": [
      "<ipython-input-11-50e2ff2a5196>:4: FutureWarning: DataFrame.fillna with 'method' is deprecated and will raise in a future version. Use obj.ffill() or obj.bfill() instead.\n",
      "  df=df2.fillna(method='ffill')\n"
     ]
    },
    {
     "data": {
      "text/html": [
       "<div>\n",
       "<style scoped>\n",
       "    .dataframe tbody tr th:only-of-type {\n",
       "        vertical-align: middle;\n",
       "    }\n",
       "\n",
       "    .dataframe tbody tr th {\n",
       "        vertical-align: top;\n",
       "    }\n",
       "\n",
       "    .dataframe thead th {\n",
       "        text-align: right;\n",
       "    }\n",
       "</style>\n",
       "<table border=\"1\" class=\"dataframe\">\n",
       "  <thead>\n",
       "    <tr style=\"text-align: right;\">\n",
       "      <th></th>\n",
       "      <th>Sentence #</th>\n",
       "      <th>Word</th>\n",
       "      <th>POS</th>\n",
       "      <th>Tag</th>\n",
       "    </tr>\n",
       "  </thead>\n",
       "  <tbody>\n",
       "    <tr>\n",
       "      <th>0</th>\n",
       "      <td>Sentence: 1</td>\n",
       "      <td>Thousands</td>\n",
       "      <td>NNS</td>\n",
       "      <td>O</td>\n",
       "    </tr>\n",
       "    <tr>\n",
       "      <th>1</th>\n",
       "      <td>Sentence: 1</td>\n",
       "      <td>of</td>\n",
       "      <td>IN</td>\n",
       "      <td>O</td>\n",
       "    </tr>\n",
       "    <tr>\n",
       "      <th>2</th>\n",
       "      <td>Sentence: 1</td>\n",
       "      <td>demonstrators</td>\n",
       "      <td>NNS</td>\n",
       "      <td>O</td>\n",
       "    </tr>\n",
       "    <tr>\n",
       "      <th>3</th>\n",
       "      <td>Sentence: 1</td>\n",
       "      <td>have</td>\n",
       "      <td>VBP</td>\n",
       "      <td>O</td>\n",
       "    </tr>\n",
       "    <tr>\n",
       "      <th>4</th>\n",
       "      <td>Sentence: 1</td>\n",
       "      <td>marched</td>\n",
       "      <td>VBN</td>\n",
       "      <td>O</td>\n",
       "    </tr>\n",
       "  </tbody>\n",
       "</table>\n",
       "</div>"
      ],
      "text/plain": [
       "    Sentence #           Word  POS Tag\n",
       "0  Sentence: 1      Thousands  NNS   O\n",
       "1  Sentence: 1             of   IN   O\n",
       "2  Sentence: 1  demonstrators  NNS   O\n",
       "3  Sentence: 1           have  VBP   O\n",
       "4  Sentence: 1        marched  VBN   O"
      ]
     },
     "execution_count": 11,
     "metadata": {},
     "output_type": "execute_result"
    }
   ],
   "source": [
    "# Looking at the dataset here we will use ffill feature to fill the null values.\n",
    "#Forward-fills missing values in the Sentence # column.\n",
    "#Ensures every word is correctly assigned to a sentence.\n",
    "df=df2.fillna(method='ffill')\n",
    "df.head()"
   ]
  },
  {
   "cell_type": "code",
   "execution_count": 12,
   "id": "61b3e58a",
   "metadata": {
    "execution": {
     "iopub.execute_input": "2025-03-25T16:43:30.618350Z",
     "iopub.status.busy": "2025-03-25T16:43:30.618090Z",
     "iopub.status.idle": "2025-03-25T16:43:30.823060Z",
     "shell.execute_reply": "2025-03-25T16:43:30.822335Z"
    },
    "papermill": {
     "duration": 0.217477,
     "end_time": "2025-03-25T16:43:30.824226",
     "exception": false,
     "start_time": "2025-03-25T16:43:30.606749",
     "status": "completed"
    },
    "tags": []
   },
   "outputs": [
    {
     "data": {
      "text/plain": [
       "Sentence #    0\n",
       "Word          0\n",
       "POS           0\n",
       "Tag           0\n",
       "dtype: int64"
      ]
     },
     "execution_count": 12,
     "metadata": {},
     "output_type": "execute_result"
    }
   ],
   "source": [
    "df.isnull().sum()\n"
   ]
  },
  {
   "cell_type": "markdown",
   "id": "c1f7b477",
   "metadata": {
    "papermill": {
     "duration": 0.010202,
     "end_time": "2025-03-25T16:43:30.845016",
     "exception": false,
     "start_time": "2025-03-25T16:43:30.834814",
     "status": "completed"
    },
    "tags": []
   },
   "source": [
    "## 2. Extracting Words and Tags"
   ]
  },
  {
   "cell_type": "code",
   "execution_count": 13,
   "id": "8e19691b",
   "metadata": {
    "execution": {
     "iopub.execute_input": "2025-03-25T16:43:30.866284Z",
     "iopub.status.busy": "2025-03-25T16:43:30.866054Z",
     "iopub.status.idle": "2025-03-25T16:43:30.920298Z",
     "shell.execute_reply": "2025-03-25T16:43:30.919632Z"
    },
    "papermill": {
     "duration": 0.066244,
     "end_time": "2025-03-25T16:43:30.921503",
     "exception": false,
     "start_time": "2025-03-25T16:43:30.855259",
     "status": "completed"
    },
    "tags": []
   },
   "outputs": [
    {
     "data": {
      "text/plain": [
       "17"
      ]
     },
     "execution_count": 13,
     "metadata": {},
     "output_type": "execute_result"
    }
   ],
   "source": [
    "n_tags=df['Tag'].nunique()\n",
    "n_tags"
   ]
  },
  {
   "cell_type": "code",
   "execution_count": 14,
   "id": "fca07143",
   "metadata": {
    "execution": {
     "iopub.execute_input": "2025-03-25T16:43:30.943779Z",
     "iopub.status.busy": "2025-03-25T16:43:30.943565Z",
     "iopub.status.idle": "2025-03-25T16:43:31.036940Z",
     "shell.execute_reply": "2025-03-25T16:43:31.035795Z"
    },
    "papermill": {
     "duration": 0.105698,
     "end_time": "2025-03-25T16:43:31.038420",
     "exception": false,
     "start_time": "2025-03-25T16:43:30.932722",
     "status": "completed"
    },
    "tags": []
   },
   "outputs": [
    {
     "data": {
      "text/plain": [
       "35177"
      ]
     },
     "execution_count": 14,
     "metadata": {},
     "output_type": "execute_result"
    }
   ],
   "source": [
    "n_words=df['Word'].nunique()\n",
    "n_words"
   ]
  },
  {
   "cell_type": "code",
   "execution_count": 15,
   "id": "4998f237",
   "metadata": {
    "execution": {
     "iopub.execute_input": "2025-03-25T16:43:31.061714Z",
     "iopub.status.busy": "2025-03-25T16:43:31.061436Z",
     "iopub.status.idle": "2025-03-25T16:43:31.224910Z",
     "shell.execute_reply": "2025-03-25T16:43:31.224221Z"
    },
    "papermill": {
     "duration": 0.175886,
     "end_time": "2025-03-25T16:43:31.226227",
     "exception": false,
     "start_time": "2025-03-25T16:43:31.050341",
     "status": "completed"
    },
    "tags": []
   },
   "outputs": [],
   "source": [
    "words=list(set(df['Word']))\n",
    "n_words=len(words)\n",
    "tags=list(set(df['Tag']))"
   ]
  },
  {
   "cell_type": "code",
   "execution_count": 16,
   "id": "e8db6c3e",
   "metadata": {
    "execution": {
     "iopub.execute_input": "2025-03-25T16:43:31.254763Z",
     "iopub.status.busy": "2025-03-25T16:43:31.254511Z",
     "iopub.status.idle": "2025-03-25T16:43:31.259544Z",
     "shell.execute_reply": "2025-03-25T16:43:31.258938Z"
    },
    "papermill": {
     "duration": 0.019374,
     "end_time": "2025-03-25T16:43:31.260682",
     "exception": false,
     "start_time": "2025-03-25T16:43:31.241308",
     "status": "completed"
    },
    "tags": []
   },
   "outputs": [
    {
     "data": {
      "text/plain": [
       "'Mattoo'"
      ]
     },
     "execution_count": 16,
     "metadata": {},
     "output_type": "execute_result"
    }
   ],
   "source": [
    "words[10]\n"
   ]
  },
  {
   "cell_type": "code",
   "execution_count": 17,
   "id": "9699e5fb",
   "metadata": {
    "execution": {
     "iopub.execute_input": "2025-03-25T16:43:31.283650Z",
     "iopub.status.busy": "2025-03-25T16:43:31.283448Z",
     "iopub.status.idle": "2025-03-25T16:43:31.287448Z",
     "shell.execute_reply": "2025-03-25T16:43:31.286902Z"
    },
    "papermill": {
     "duration": 0.016428,
     "end_time": "2025-03-25T16:43:31.288510",
     "exception": false,
     "start_time": "2025-03-25T16:43:31.272082",
     "status": "completed"
    },
    "tags": []
   },
   "outputs": [
    {
     "data": {
      "text/plain": [
       "17"
      ]
     },
     "execution_count": 17,
     "metadata": {},
     "output_type": "execute_result"
    }
   ],
   "source": [
    "n_tags=len(tags)\n",
    "n_tags"
   ]
  },
  {
   "cell_type": "markdown",
   "id": "35d7c31a",
   "metadata": {
    "papermill": {
     "duration": 0.010624,
     "end_time": "2025-03-25T16:43:31.310292",
     "exception": false,
     "start_time": "2025-03-25T16:43:31.299668",
     "status": "completed"
    },
    "tags": []
   },
   "source": [
    "## 3. Converting data into sentences"
   ]
  },
  {
   "cell_type": "code",
   "execution_count": 18,
   "id": "eca3c7c4",
   "metadata": {
    "execution": {
     "iopub.execute_input": "2025-03-25T16:43:31.333050Z",
     "iopub.status.busy": "2025-03-25T16:43:31.332811Z",
     "iopub.status.idle": "2025-03-25T16:43:31.337167Z",
     "shell.execute_reply": "2025-03-25T16:43:31.336402Z"
    },
    "papermill": {
     "duration": 0.017395,
     "end_time": "2025-03-25T16:43:31.338344",
     "exception": false,
     "start_time": "2025-03-25T16:43:31.320949",
     "status": "completed"
    },
    "tags": []
   },
   "outputs": [],
   "source": [
    "class GetSentence(object):\n",
    "    def __init__(self, data):\n",
    "        self.n_sentence=1\n",
    "        self.data=data\n",
    "        self.empty = False\n",
    "        function=lambda d:[(w, p, t) for w, p, t in zip(d[\"Word\"].values.tolist(),\n",
    "                                                        d[\"POS\"].values.tolist(),\n",
    "                                                        d[\"Tag\"].values.tolist())]\n",
    "        \n",
    "        self.group_sent = self.data.groupby(\"Sentence #\").apply(function)\n",
    "        self.all_sentences = [d for d in self.group_sent] "
   ]
  },
  {
   "cell_type": "code",
   "execution_count": 19,
   "id": "71a06816",
   "metadata": {
    "execution": {
     "iopub.execute_input": "2025-03-25T16:43:31.360404Z",
     "iopub.status.busy": "2025-03-25T16:43:31.360206Z",
     "iopub.status.idle": "2025-03-25T16:43:35.762575Z",
     "shell.execute_reply": "2025-03-25T16:43:35.761369Z"
    },
    "papermill": {
     "duration": 4.415091,
     "end_time": "2025-03-25T16:43:35.764247",
     "exception": false,
     "start_time": "2025-03-25T16:43:31.349156",
     "status": "completed"
    },
    "tags": []
   },
   "outputs": [
    {
     "name": "stderr",
     "output_type": "stream",
     "text": [
      "<ipython-input-18-afd3a31f9fc4>:10: DeprecationWarning: DataFrameGroupBy.apply operated on the grouping columns. This behavior is deprecated, and in a future version of pandas the grouping columns will be excluded from the operation. Either pass `include_groups=False` to exclude the groupings or explicitly select the grouping columns after groupby to silence this warning.\n",
      "  self.group_sent = self.data.groupby(\"Sentence #\").apply(function)\n"
     ]
    }
   ],
   "source": [
    "get=GetSentence(df)\n",
    "sentences=get.all_sentences"
   ]
  },
  {
   "cell_type": "code",
   "execution_count": 20,
   "id": "f5058f86",
   "metadata": {
    "execution": {
     "iopub.execute_input": "2025-03-25T16:43:35.789314Z",
     "iopub.status.busy": "2025-03-25T16:43:35.789083Z",
     "iopub.status.idle": "2025-03-25T16:43:35.797899Z",
     "shell.execute_reply": "2025-03-25T16:43:35.797187Z"
    },
    "papermill": {
     "duration": 0.022479,
     "end_time": "2025-03-25T16:43:35.799219",
     "exception": false,
     "start_time": "2025-03-25T16:43:35.776740",
     "status": "completed"
    },
    "tags": []
   },
   "outputs": [
    {
     "name": "stdout",
     "output_type": "stream",
     "text": [
      "Maximum sequence length in the list of sentences: 104\n"
     ]
    }
   ],
   "source": [
    "maxl = max([len(s) for s in sentences])\n",
    "print ('Maximum sequence length in the list of sentences:', maxl)"
   ]
  },
  {
   "cell_type": "markdown",
   "id": "2dffe017",
   "metadata": {
    "papermill": {
     "duration": 0.011363,
     "end_time": "2025-03-25T16:43:35.821543",
     "exception": false,
     "start_time": "2025-03-25T16:43:35.810180",
     "status": "completed"
    },
    "tags": []
   },
   "source": [
    "## 4. Create word and tag indexing"
   ]
  },
  {
   "cell_type": "code",
   "execution_count": 21,
   "id": "a1c295f5",
   "metadata": {
    "execution": {
     "iopub.execute_input": "2025-03-25T16:43:35.845831Z",
     "iopub.status.busy": "2025-03-25T16:43:35.845585Z",
     "iopub.status.idle": "2025-03-25T16:43:35.857877Z",
     "shell.execute_reply": "2025-03-25T16:43:35.857168Z"
    },
    "papermill": {
     "duration": 0.026456,
     "end_time": "2025-03-25T16:43:35.859189",
     "exception": false,
     "start_time": "2025-03-25T16:43:35.832733",
     "status": "completed"
    },
    "tags": []
   },
   "outputs": [],
   "source": [
    "w_index={w:i for i,w in enumerate(words)}\n",
    "t_index={t:j for j,t in enumerate(tags)}"
   ]
  },
  {
   "cell_type": "markdown",
   "id": "8976438c",
   "metadata": {
    "papermill": {
     "duration": 0.010961,
     "end_time": "2025-03-25T16:43:35.881089",
     "exception": false,
     "start_time": "2025-03-25T16:43:35.870128",
     "status": "completed"
    },
    "tags": []
   },
   "source": [
    "## 4. Train word2vec model"
   ]
  },
  {
   "attachments": {
    "d15092c2-4dee-4d0f-ab4c-ac5bf0a02fbf.png": {
     "image/png": "[encoded data removed]"
    }
   },
   "cell_type": "markdown",
   "id": "9a7f0ba2",
   "metadata": {
    "papermill": {
     "duration": 0.011005,
     "end_time": "2025-03-25T16:43:35.903422",
     "exception": false,
     "start_time": "2025-03-25T16:43:35.892417",
     "status": "completed"
    },
    "tags": []
   },
   "source": [
    "![image.png](attachment:d15092c2-4dee-4d0f-ab4c-ac5bf0a02fbf.png)"
   ]
  },
  {
   "attachments": {
    "0f7e97d2-96d2-46dd-b050-769de608b5c5.png": {
     "image/png": "[encoded data removed]"
    },
    "14240324-68d5-4ee9-9171-1b31c198ed23.png": {
     "image/png": "[encoded data removed]"
    }
   },
   "cell_type": "markdown",
   "id": "30787f1c",
   "metadata": {
    "papermill": {
     "duration": 0.01113,
     "end_time": "2025-03-25T16:43:35.925987",
     "exception": false,
     "start_time": "2025-03-25T16:43:35.914857",
     "status": "completed"
    },
    "tags": []
   },
   "source": [
    "![image.png](attachment:14240324-68d5-4ee9-9171-1b31c198ed23.png)"
   ]
  },
  {
   "cell_type": "code",
   "execution_count": 22,
   "id": "58915d19",
   "metadata": {
    "execution": {
     "iopub.execute_input": "2025-03-25T16:43:35.949728Z",
     "iopub.status.busy": "2025-03-25T16:43:35.949488Z",
     "iopub.status.idle": "2025-03-25T16:44:00.095848Z",
     "shell.execute_reply": "2025-03-25T16:44:00.095156Z"
    },
    "papermill": {
     "duration": 24.159795,
     "end_time": "2025-03-25T16:44:00.097499",
     "exception": false,
     "start_time": "2025-03-25T16:43:35.937704",
     "status": "completed"
    },
    "tags": []
   },
   "outputs": [],
   "source": [
    "from gensim.models import Word2Vec\n",
    "\n",
    "# Prepare the dataset for Word2Vec training (list of tokenized sentences)\n",
    "sentences_w2v = [[w[0] for w in s] for s in sentences]  # Extract words from your dataset\n",
    "\n",
    "# Train a Word2Vec model\n",
    "word2vec_model = Word2Vec(sentences=sentences_w2v, vector_size=100, window=5, min_count=1, workers=4)"
   ]
  },
  {
   "cell_type": "markdown",
   "id": "affcef15",
   "metadata": {
    "papermill": {
     "duration": 0.010594,
     "end_time": "2025-03-25T16:44:00.119566",
     "exception": false,
     "start_time": "2025-03-25T16:44:00.108972",
     "status": "completed"
    },
    "tags": []
   },
   "source": [
    "## 5. Convert labels into indixes and apply padding"
   ]
  },
  {
   "cell_type": "code",
   "execution_count": 23,
   "id": "b6d79a95",
   "metadata": {
    "execution": {
     "iopub.execute_input": "2025-03-25T16:44:00.142832Z",
     "iopub.status.busy": "2025-03-25T16:44:00.142308Z",
     "iopub.status.idle": "2025-03-25T16:44:00.226593Z",
     "shell.execute_reply": "2025-03-25T16:44:00.225935Z"
    },
    "papermill": {
     "duration": 0.097563,
     "end_time": "2025-03-25T16:44:00.228145",
     "exception": false,
     "start_time": "2025-03-25T16:44:00.130582",
     "status": "completed"
    },
    "tags": []
   },
   "outputs": [],
   "source": [
    "#Convert labels into indixes and apply padding\n",
    "from tensorflow.keras.preprocessing.sequence import pad_sequences\n",
    "from tensorflow.keras.utils import to_categorical"
   ]
  },
  {
   "cell_type": "code",
   "execution_count": 24,
   "id": "9c2660aa",
   "metadata": {
    "execution": {
     "iopub.execute_input": "2025-03-25T16:44:00.251468Z",
     "iopub.status.busy": "2025-03-25T16:44:00.251218Z",
     "iopub.status.idle": "2025-03-25T16:44:00.255541Z",
     "shell.execute_reply": "2025-03-25T16:44:00.254732Z"
    },
    "papermill": {
     "duration": 0.017063,
     "end_time": "2025-03-25T16:44:00.256851",
     "exception": false,
     "start_time": "2025-03-25T16:44:00.239788",
     "status": "completed"
    },
    "tags": []
   },
   "outputs": [
    {
     "data": {
      "text/plain": [
       "104"
      ]
     },
     "execution_count": 24,
     "metadata": {},
     "output_type": "execute_result"
    }
   ],
   "source": [
    "maxl # This is the length of longest sequence in the list of sentences. So this should be our size of max_padding"
   ]
  },
  {
   "cell_type": "code",
   "execution_count": 25,
   "id": "a991a7e8",
   "metadata": {
    "execution": {
     "iopub.execute_input": "2025-03-25T16:44:00.279198Z",
     "iopub.status.busy": "2025-03-25T16:44:00.278955Z",
     "iopub.status.idle": "2025-03-25T16:44:00.439578Z",
     "shell.execute_reply": "2025-03-25T16:44:00.438839Z"
    },
    "papermill": {
     "duration": 0.173409,
     "end_time": "2025-03-25T16:44:00.441079",
     "exception": false,
     "start_time": "2025-03-25T16:44:00.267670",
     "status": "completed"
    },
    "tags": []
   },
   "outputs": [],
   "source": [
    "X=[[w_index[w[0]]for w in s]for s in sentences]\n",
    "#Converts each word in a sentence into its corresponding index."
   ]
  },
  {
   "cell_type": "code",
   "execution_count": 26,
   "id": "d8c1c1e1",
   "metadata": {
    "execution": {
     "iopub.execute_input": "2025-03-25T16:44:00.464021Z",
     "iopub.status.busy": "2025-03-25T16:44:00.463758Z",
     "iopub.status.idle": "2025-03-25T16:44:00.634925Z",
     "shell.execute_reply": "2025-03-25T16:44:00.634084Z"
    },
    "papermill": {
     "duration": 0.184233,
     "end_time": "2025-03-25T16:44:00.636638",
     "exception": false,
     "start_time": "2025-03-25T16:44:00.452405",
     "status": "completed"
    },
    "tags": []
   },
   "outputs": [
    {
     "data": {
      "text/plain": [
       "array([[ 8080, 26580, 16938, ...,     0,     0,     0],\n",
       "       [ 6894, 18510,  4533, ...,     0,     0,     0],\n",
       "       [ 6286, 25762, 17817, ...,     0,     0,     0],\n",
       "       ...,\n",
       "       [ 6201, 27196, 34841, ...,     0,     0,     0],\n",
       "       [ 2473, 17756, 21178, ...,     0,     0,     0],\n",
       "       [11374,  8687, 31284, ...,     0,     0,     0]], dtype=int32)"
      ]
     },
     "execution_count": 26,
     "metadata": {},
     "output_type": "execute_result"
    }
   ],
   "source": [
    "X=pad_sequences(maxlen=maxl,padding='post',sequences=X)\n",
    "#Pads sentences to maxl length using post-padding (adds zeros at the end). Padding to get uniform lengths\n",
    "X"
   ]
  },
  {
   "cell_type": "code",
   "execution_count": 27,
   "id": "59918566",
   "metadata": {
    "execution": {
     "iopub.execute_input": "2025-03-25T16:44:00.666633Z",
     "iopub.status.busy": "2025-03-25T16:44:00.666271Z",
     "iopub.status.idle": "2025-03-25T16:44:01.126555Z",
     "shell.execute_reply": "2025-03-25T16:44:01.125824Z"
    },
    "papermill": {
     "duration": 0.476055,
     "end_time": "2025-03-25T16:44:01.128240",
     "exception": false,
     "start_time": "2025-03-25T16:44:00.652185",
     "status": "completed"
    },
    "tags": []
   },
   "outputs": [],
   "source": [
    "Y = [[t_index[w[2]] for w in s] for s in sentences]\n",
    "#Converts NER tags to indexed format."
   ]
  },
  {
   "cell_type": "code",
   "execution_count": 28,
   "id": "b28ebc66",
   "metadata": {
    "execution": {
     "iopub.execute_input": "2025-03-25T16:44:01.151489Z",
     "iopub.status.busy": "2025-03-25T16:44:01.151226Z",
     "iopub.status.idle": "2025-03-25T16:44:01.300282Z",
     "shell.execute_reply": "2025-03-25T16:44:01.299291Z"
    },
    "papermill": {
     "duration": 0.162135,
     "end_time": "2025-03-25T16:44:01.301783",
     "exception": false,
     "start_time": "2025-03-25T16:44:01.139648",
     "status": "completed"
    },
    "tags": []
   },
   "outputs": [
    {
     "data": {
      "text/plain": [
       "array([13, 10, 10, 10, 10, 10, 10, 10, 10, 10, 10, 10, 10, 10, 10, 15, 10,\n",
       "       10, 10,  8, 10, 10, 10, 10, 10,  0,  0,  0,  0,  0,  0,  0,  0,  0,\n",
       "        0,  0,  0,  0,  0,  0,  0,  0,  0,  0,  0,  0,  0,  0,  0,  0,  0,\n",
       "        0,  0,  0,  0,  0,  0,  0,  0,  0,  0,  0,  0,  0,  0,  0,  0,  0,\n",
       "        0,  0,  0,  0,  0,  0,  0,  0,  0,  0,  0,  0,  0,  0,  0,  0,  0,\n",
       "        0,  0,  0,  0,  0,  0,  0,  0,  0,  0,  0,  0,  0,  0,  0,  0,  0,\n",
       "        0,  0], dtype=int32)"
      ]
     },
     "execution_count": 28,
     "metadata": {},
     "output_type": "execute_result"
    }
   ],
   "source": [
    "Y=pad_sequences(maxlen=maxl,padding='post',sequences=Y)\n",
    "#Pads labels similarly.\n",
    "Y[1]"
   ]
  },
  {
   "cell_type": "code",
   "execution_count": 29,
   "id": "1cdef2a7",
   "metadata": {
    "execution": {
     "iopub.execute_input": "2025-03-25T16:44:01.365531Z",
     "iopub.status.busy": "2025-03-25T16:44:01.365240Z",
     "iopub.status.idle": "2025-03-25T16:44:01.870208Z",
     "shell.execute_reply": "2025-03-25T16:44:01.869471Z"
    },
    "papermill": {
     "duration": 0.518915,
     "end_time": "2025-03-25T16:44:01.871748",
     "exception": false,
     "start_time": "2025-03-25T16:44:01.352833",
     "status": "completed"
    },
    "tags": []
   },
   "outputs": [],
   "source": [
    "#One Hot Encoding\n",
    "from tensorflow.keras.utils import to_categorical\n",
    "\n",
    "Y = to_categorical(Y, num_classes=n_tags)"
   ]
  },
  {
   "cell_type": "markdown",
   "id": "71299b0f",
   "metadata": {
    "papermill": {
     "duration": 0.011533,
     "end_time": "2025-03-25T16:44:01.895574",
     "exception": false,
     "start_time": "2025-03-25T16:44:01.884041",
     "status": "completed"
    },
    "tags": []
   },
   "source": [
    "## 6. Splitting train-test split"
   ]
  },
  {
   "cell_type": "code",
   "execution_count": 30,
   "id": "dde5d978",
   "metadata": {
    "execution": {
     "iopub.execute_input": "2025-03-25T16:44:01.918750Z",
     "iopub.status.busy": "2025-03-25T16:44:01.918483Z",
     "iopub.status.idle": "2025-03-25T16:44:02.547828Z",
     "shell.execute_reply": "2025-03-25T16:44:02.547088Z"
    },
    "papermill": {
     "duration": 0.642745,
     "end_time": "2025-03-25T16:44:02.549505",
     "exception": false,
     "start_time": "2025-03-25T16:44:01.906760",
     "status": "completed"
    },
    "tags": []
   },
   "outputs": [],
   "source": [
    "from sklearn.model_selection import train_test_split\n",
    "x_train,x_test,y_train,y_test=train_test_split(X,Y,test_size=0.1,random_state=42)"
   ]
  },
  {
   "cell_type": "code",
   "execution_count": 31,
   "id": "920b7329",
   "metadata": {
    "execution": {
     "iopub.execute_input": "2025-03-25T16:44:02.572965Z",
     "iopub.status.busy": "2025-03-25T16:44:02.572663Z",
     "iopub.status.idle": "2025-03-25T16:44:02.577282Z",
     "shell.execute_reply": "2025-03-25T16:44:02.576540Z"
    },
    "papermill": {
     "duration": 0.017431,
     "end_time": "2025-03-25T16:44:02.578407",
     "exception": false,
     "start_time": "2025-03-25T16:44:02.560976",
     "status": "completed"
    },
    "tags": []
   },
   "outputs": [
    {
     "name": "stdout",
     "output_type": "stream",
     "text": [
      "(43163, 104) (43163, 104, 17)\n",
      "\n",
      "(4796, 104) (4796, 104, 17)\n"
     ]
    }
   ],
   "source": [
    "print(x_train.shape, y_train.shape)\n",
    "print()\n",
    "print(x_test.shape, y_test.shape)"
   ]
  },
  {
   "cell_type": "markdown",
   "id": "59b64408",
   "metadata": {
    "papermill": {
     "duration": 0.010983,
     "end_time": "2025-03-25T16:44:02.601096",
     "exception": false,
     "start_time": "2025-03-25T16:44:02.590113",
     "status": "completed"
    },
    "tags": []
   },
   "source": [
    "### The embedding matrix is used to map words to their vector representations in a neural network. It acts as a lookup table where each row corresponds to a word's embedding.\n",
    "\n",
    "It has a shape of (n_words, embedding_dim):\n",
    "**n_words** → Total number of words in your vocabulary.\n",
    "**embedding_dim** → The size of each word vector (100 dimensions in this case).\n",
    "This means each word in our vocabulary gets a row of embedding_dim zeros, which will later be replaced with actual word embeddings.\n",
    "\n"
   ]
  },
  {
   "cell_type": "markdown",
   "id": "9cd2a156",
   "metadata": {
    "papermill": {
     "duration": 0.010716,
     "end_time": "2025-03-25T16:44:02.623015",
     "exception": false,
     "start_time": "2025-03-25T16:44:02.612299",
     "status": "completed"
    },
    "tags": []
   },
   "source": [
    "## 7. Create an Embedding Matrix"
   ]
  },
  {
   "cell_type": "code",
   "execution_count": 32,
   "id": "80e5a17b",
   "metadata": {
    "execution": {
     "iopub.execute_input": "2025-03-25T16:44:02.647306Z",
     "iopub.status.busy": "2025-03-25T16:44:02.647037Z",
     "iopub.status.idle": "2025-03-25T16:44:02.764222Z",
     "shell.execute_reply": "2025-03-25T16:44:02.763469Z"
    },
    "papermill": {
     "duration": 0.131852,
     "end_time": "2025-03-25T16:44:02.765817",
     "exception": false,
     "start_time": "2025-03-25T16:44:02.633965",
     "status": "completed"
    },
    "tags": []
   },
   "outputs": [],
   "source": [
    "import numpy as np\n",
    "\n",
    "embedding_dim = 100  # If using a pretrained model like Google News, set to 300\n",
    "\n",
    "# Create an embedding matrix\n",
    "embedding_matrix = np.zeros((n_words, embedding_dim))  # Initialize a matrix with zeros\n",
    "\n",
    "for word, i in w_index.items():  \n",
    "    if word in word2vec_model.wv:  # Check if word exists in Word2Vec vocabulary\n",
    "        embedding_matrix[i] = word2vec_model.wv[word]  # Assign its word vector\n",
    "    else:\n",
    "        embedding_matrix[i] = np.random.uniform(-0.01, 0.01, embedding_dim)  # Assign random vector if word is not found"
   ]
  },
  {
   "cell_type": "markdown",
   "id": "a1618add",
   "metadata": {
    "execution": {
     "iopub.execute_input": "2025-02-20T07:47:05.178314Z",
     "iopub.status.busy": "2025-02-20T07:47:05.177929Z",
     "iopub.status.idle": "2025-02-20T07:47:05.185490Z",
     "shell.execute_reply": "2025-02-20T07:47:05.184109Z",
     "shell.execute_reply.started": "2025-02-20T07:47:05.178287Z"
    },
    "papermill": {
     "duration": 0.011099,
     "end_time": "2025-03-25T16:44:02.788818",
     "exception": false,
     "start_time": "2025-03-25T16:44:02.777719",
     "status": "completed"
    },
    "tags": []
   },
   "source": [
    "**Your AttentionLayer implements Luong-style Multiplicative Attention (a.k.a. Dot-Product Attention), which improves sequence modeling by focusing on relevant words in the input sequence.**"
   ]
  },
  {
   "cell_type": "code",
   "execution_count": 33,
   "id": "3f247937",
   "metadata": {
    "execution": {
     "iopub.execute_input": "2025-03-25T16:44:02.812179Z",
     "iopub.status.busy": "2025-03-25T16:44:02.811855Z",
     "iopub.status.idle": "2025-03-25T16:44:02.818058Z",
     "shell.execute_reply": "2025-03-25T16:44:02.817447Z"
    },
    "papermill": {
     "duration": 0.019498,
     "end_time": "2025-03-25T16:44:02.819407",
     "exception": false,
     "start_time": "2025-03-25T16:44:02.799909",
     "status": "completed"
    },
    "tags": []
   },
   "outputs": [],
   "source": [
    "import tensorflow as tf\n",
    "from tensorflow.keras.layers import Layer\n",
    "\n",
    "class AttentionLayer(Layer):\n",
    "    def __init__(self, **kwargs):\n",
    "        super(AttentionLayer, self).__init__(**kwargs)\n",
    "        \n",
    "    def build(self, input_shape):\n",
    "        self.W = self.add_weight(shape=(input_shape[-1], input_shape[-1]), \n",
    "                                 initializer=\"glorot_uniform\", trainable=True)\n",
    "        self.V = self.add_weight(shape=(input_shape[-1], 1), \n",
    "                                 initializer=\"glorot_uniform\", trainable=True)\n",
    "        super(AttentionLayer, self).build(input_shape)\n",
    "\n",
    "    def call(self, inputs):\n",
    "        # Apply Luong-style attention\n",
    "        \n",
    "        #The attention score is computed by multiplying the input with weight W and applying tanh activation.\n",
    "        score = tf.nn.tanh(tf.matmul(inputs, self.W))  # Compute scores\n",
    "        \n",
    "        #The score is converted into attention weights via softmax, so the sum of weights is 1 (indicating importance).\n",
    "        attention_weights = tf.nn.softmax(tf.matmul(score, self.V), axis=1)  # Softmax over scores\n",
    "        \n",
    "        #The context vector is computed by weighting each time step's output using the attention weights.\n",
    "        context_vector = attention_weights * inputs  # Weight BiLSTM outputs\n",
    "\n",
    "        #We sum over the sequence to get a fixed-size context representation (useful for classification)\n",
    "        context_vector = tf.reduce_sum(context_vector, axis=1)  # Sum over sequence\n",
    "        \n",
    "        return context_vector, attention_weights\n"
   ]
  },
  {
   "cell_type": "markdown",
   "id": "fc8557a7",
   "metadata": {
    "papermill": {
     "duration": 0.01071,
     "end_time": "2025-03-25T16:44:02.841616",
     "exception": false,
     "start_time": "2025-03-25T16:44:02.830906",
     "status": "completed"
    },
    "tags": []
   },
   "source": [
    "**The Embedding layer maps each word index to its corresponding vector from the matrix.\n",
    "If trainable=False, the embeddings won’t be updated during training (useful for pretrained Word2Vec).\n",
    "If trainable=True, embeddings update to better suit your dataset.**"
   ]
  },
  {
   "cell_type": "markdown",
   "id": "e22bddad",
   "metadata": {
    "papermill": {
     "duration": 0.010795,
     "end_time": "2025-03-25T16:44:02.863433",
     "exception": false,
     "start_time": "2025-03-25T16:44:02.852638",
     "status": "completed"
    },
    "tags": []
   },
   "source": [
    "## 8. BiLSTM Model"
   ]
  },
  {
   "cell_type": "code",
   "execution_count": 34,
   "id": "7865cacc",
   "metadata": {
    "execution": {
     "iopub.execute_input": "2025-03-25T16:44:02.886021Z",
     "iopub.status.busy": "2025-03-25T16:44:02.885755Z",
     "iopub.status.idle": "2025-03-25T16:44:06.275639Z",
     "shell.execute_reply": "2025-03-25T16:44:06.274705Z"
    },
    "papermill": {
     "duration": 3.402733,
     "end_time": "2025-03-25T16:44:06.277068",
     "exception": false,
     "start_time": "2025-03-25T16:44:02.874335",
     "status": "completed"
    },
    "tags": []
   },
   "outputs": [
    {
     "name": "stderr",
     "output_type": "stream",
     "text": [
      "/usr/local/lib/python3.10/dist-packages/keras/src/layers/core/embedding.py:90: UserWarning: Argument `input_length` is deprecated. Just remove it.\n",
      "  warnings.warn(\n"
     ]
    },
    {
     "data": {
      "text/html": [
       "<pre style=\"white-space:pre;overflow-x:auto;line-height:normal;font-family:Menlo,'DejaVu Sans Mono',consolas,'Courier New',monospace\"><span style=\"font-weight: bold\">Model: \"functional\"</span>\n",
       "</pre>\n"
      ],
      "text/plain": [
       "\u001b[1mModel: \"functional\"\u001b[0m\n"
      ]
     },
     "metadata": {},
     "output_type": "display_data"
    },
    {
     "data": {
      "text/html": [
       "<pre style=\"white-space:pre;overflow-x:auto;line-height:normal;font-family:Menlo,'DejaVu Sans Mono',consolas,'Courier New',monospace\">┏━━━━━━━━━━━━━━━━━━━━━━━━━━━━━━━━━━━━━━┳━━━━━━━━━━━━━━━━━━━━━━━━━━━━━┳━━━━━━━━━━━━━━━━━┓\n",
       "┃<span style=\"font-weight: bold\"> Layer (type)                         </span>┃<span style=\"font-weight: bold\"> Output Shape                </span>┃<span style=\"font-weight: bold\">         Param # </span>┃\n",
       "┡━━━━━━━━━━━━━━━━━━━━━━━━━━━━━━━━━━━━━━╇━━━━━━━━━━━━━━━━━━━━━━━━━━━━━╇━━━━━━━━━━━━━━━━━┩\n",
       "│ input_layer (<span style=\"color: #0087ff; text-decoration-color: #0087ff\">InputLayer</span>)             │ (<span style=\"color: #00d7ff; text-decoration-color: #00d7ff\">None</span>, <span style=\"color: #00af00; text-decoration-color: #00af00\">104</span>)                 │               <span style=\"color: #00af00; text-decoration-color: #00af00\">0</span> │\n",
       "├──────────────────────────────────────┼─────────────────────────────┼─────────────────┤\n",
       "│ embedding (<span style=\"color: #0087ff; text-decoration-color: #0087ff\">Embedding</span>)                │ (<span style=\"color: #00d7ff; text-decoration-color: #00d7ff\">None</span>, <span style=\"color: #00af00; text-decoration-color: #00af00\">104</span>, <span style=\"color: #00af00; text-decoration-color: #00af00\">100</span>)            │       <span style=\"color: #00af00; text-decoration-color: #00af00\">3,517,700</span> │\n",
       "├──────────────────────────────────────┼─────────────────────────────┼─────────────────┤\n",
       "│ bidirectional (<span style=\"color: #0087ff; text-decoration-color: #0087ff\">Bidirectional</span>)        │ (<span style=\"color: #00d7ff; text-decoration-color: #00d7ff\">None</span>, <span style=\"color: #00af00; text-decoration-color: #00af00\">104</span>, <span style=\"color: #00af00; text-decoration-color: #00af00\">300</span>)            │         <span style=\"color: #00af00; text-decoration-color: #00af00\">301,200</span> │\n",
       "├──────────────────────────────────────┼─────────────────────────────┼─────────────────┤\n",
       "│ time_distributed (<span style=\"color: #0087ff; text-decoration-color: #0087ff\">TimeDistributed</span>)   │ (<span style=\"color: #00d7ff; text-decoration-color: #00d7ff\">None</span>, <span style=\"color: #00af00; text-decoration-color: #00af00\">104</span>, <span style=\"color: #00af00; text-decoration-color: #00af00\">17</span>)             │           <span style=\"color: #00af00; text-decoration-color: #00af00\">5,117</span> │\n",
       "└──────────────────────────────────────┴─────────────────────────────┴─────────────────┘\n",
       "</pre>\n"
      ],
      "text/plain": [
       "┏━━━━━━━━━━━━━━━━━━━━━━━━━━━━━━━━━━━━━━┳━━━━━━━━━━━━━━━━━━━━━━━━━━━━━┳━━━━━━━━━━━━━━━━━┓\n",
       "┃\u001b[1m \u001b[0m\u001b[1mLayer (type)                        \u001b[0m\u001b[1m \u001b[0m┃\u001b[1m \u001b[0m\u001b[1mOutput Shape               \u001b[0m\u001b[1m \u001b[0m┃\u001b[1m \u001b[0m\u001b[1m        Param #\u001b[0m\u001b[1m \u001b[0m┃\n",
       "┡━━━━━━━━━━━━━━━━━━━━━━━━━━━━━━━━━━━━━━╇━━━━━━━━━━━━━━━━━━━━━━━━━━━━━╇━━━━━━━━━━━━━━━━━┩\n",
       "│ input_layer (\u001b[38;5;33mInputLayer\u001b[0m)             │ (\u001b[38;5;45mNone\u001b[0m, \u001b[38;5;34m104\u001b[0m)                 │               \u001b[38;5;34m0\u001b[0m │\n",
       "├──────────────────────────────────────┼─────────────────────────────┼─────────────────┤\n",
       "│ embedding (\u001b[38;5;33mEmbedding\u001b[0m)                │ (\u001b[38;5;45mNone\u001b[0m, \u001b[38;5;34m104\u001b[0m, \u001b[38;5;34m100\u001b[0m)            │       \u001b[38;5;34m3,517,700\u001b[0m │\n",
       "├──────────────────────────────────────┼─────────────────────────────┼─────────────────┤\n",
       "│ bidirectional (\u001b[38;5;33mBidirectional\u001b[0m)        │ (\u001b[38;5;45mNone\u001b[0m, \u001b[38;5;34m104\u001b[0m, \u001b[38;5;34m300\u001b[0m)            │         \u001b[38;5;34m301,200\u001b[0m │\n",
       "├──────────────────────────────────────┼─────────────────────────────┼─────────────────┤\n",
       "│ time_distributed (\u001b[38;5;33mTimeDistributed\u001b[0m)   │ (\u001b[38;5;45mNone\u001b[0m, \u001b[38;5;34m104\u001b[0m, \u001b[38;5;34m17\u001b[0m)             │           \u001b[38;5;34m5,117\u001b[0m │\n",
       "└──────────────────────────────────────┴─────────────────────────────┴─────────────────┘\n"
      ]
     },
     "metadata": {},
     "output_type": "display_data"
    },
    {
     "data": {
      "text/html": [
       "<pre style=\"white-space:pre;overflow-x:auto;line-height:normal;font-family:Menlo,'DejaVu Sans Mono',consolas,'Courier New',monospace\"><span style=\"font-weight: bold\"> Total params: </span><span style=\"color: #00af00; text-decoration-color: #00af00\">3,824,017</span> (14.59 MB)\n",
       "</pre>\n"
      ],
      "text/plain": [
       "\u001b[1m Total params: \u001b[0m\u001b[38;5;34m3,824,017\u001b[0m (14.59 MB)\n"
      ]
     },
     "metadata": {},
     "output_type": "display_data"
    },
    {
     "data": {
      "text/html": [
       "<pre style=\"white-space:pre;overflow-x:auto;line-height:normal;font-family:Menlo,'DejaVu Sans Mono',consolas,'Courier New',monospace\"><span style=\"font-weight: bold\"> Trainable params: </span><span style=\"color: #00af00; text-decoration-color: #00af00\">306,317</span> (1.17 MB)\n",
       "</pre>\n"
      ],
      "text/plain": [
       "\u001b[1m Trainable params: \u001b[0m\u001b[38;5;34m306,317\u001b[0m (1.17 MB)\n"
      ]
     },
     "metadata": {},
     "output_type": "display_data"
    },
    {
     "data": {
      "text/html": [
       "<pre style=\"white-space:pre;overflow-x:auto;line-height:normal;font-family:Menlo,'DejaVu Sans Mono',consolas,'Courier New',monospace\"><span style=\"font-weight: bold\"> Non-trainable params: </span><span style=\"color: #00af00; text-decoration-color: #00af00\">3,517,700</span> (13.42 MB)\n",
       "</pre>\n"
      ],
      "text/plain": [
       "\u001b[1m Non-trainable params: \u001b[0m\u001b[38;5;34m3,517,700\u001b[0m (13.42 MB)\n"
      ]
     },
     "metadata": {},
     "output_type": "display_data"
    }
   ],
   "source": [
    "from tensorflow.keras.layers import Embedding, LSTM, Dense, TimeDistributed, Bidirectional, Input\n",
    "\n",
    "# Input Layer\n",
    "input_layer = Input(shape=(maxl, ))\n",
    "\n",
    "# Embedding Layer (pre-trained Word2Vec embeddings)\n",
    "embedding_layer = Embedding(input_dim=n_words, \n",
    "                            output_dim=embedding_dim, \n",
    "                            input_length=maxl, \n",
    "                            weights=[embedding_matrix], \n",
    "                            trainable=False)(input_layer)\n",
    "# BiLSTM Layer\n",
    "lstm_layer = Bidirectional(LSTM(units=150, return_sequences=True, recurrent_dropout=0.1))(embedding_layer)\n",
    "\n",
    "# Attention Layer (returns two outputs: context_vector and attention_weights)\n",
    "context_vector, _ = AttentionLayer()(lstm_layer)  # Extract only context_vector\n",
    "\n",
    "# Fully Connected Layer with Softmax\n",
    "#output_layer = Dense(n_tags, activation=\"softmax\")(context_vector)  \n",
    "# Apply Dense layer at every timestep\n",
    "output_layer = TimeDistributed(Dense(n_tags, activation=\"softmax\"))(lstm_layer)  \n",
    "\n",
    "\n",
    "# Define Model\n",
    "model = tf.keras.Model(input_layer, output_layer)\n",
    "\n",
    "# Compile Model\n",
    "model.compile(optimizer='adam', loss='categorical_crossentropy', metrics=['accuracy'])\n",
    "\n",
    "model.summary()\n"
   ]
  },
  {
   "cell_type": "code",
   "execution_count": 35,
   "id": "bb570d6a",
   "metadata": {
    "execution": {
     "iopub.execute_input": "2025-03-25T16:44:06.301254Z",
     "iopub.status.busy": "2025-03-25T16:44:06.301019Z",
     "iopub.status.idle": "2025-03-25T17:22:53.684495Z",
     "shell.execute_reply": "2025-03-25T17:22:53.683732Z"
    },
    "papermill": {
     "duration": 2327.3972,
     "end_time": "2025-03-25T17:22:53.686182",
     "exception": false,
     "start_time": "2025-03-25T16:44:06.288982",
     "status": "completed"
    },
    "tags": []
   },
   "outputs": [
    {
     "name": "stdout",
     "output_type": "stream",
     "text": [
      "Epoch 1/10\n",
      "\u001b[1m1080/1080\u001b[0m \u001b[32m━━━━━━━━━━━━━━━━━━━━\u001b[0m\u001b[37m\u001b[0m \u001b[1m245s\u001b[0m 217ms/step - accuracy: 0.9693 - loss: 0.1805 - val_accuracy: 0.9875 - val_loss: 0.0424\n",
      "Epoch 2/10\n",
      "\u001b[1m1080/1080\u001b[0m \u001b[32m━━━━━━━━━━━━━━━━━━━━\u001b[0m\u001b[37m\u001b[0m \u001b[1m231s\u001b[0m 214ms/step - accuracy: 0.9881 - loss: 0.0403 - val_accuracy: 0.9886 - val_loss: 0.0386\n",
      "Epoch 3/10\n",
      "\u001b[1m1080/1080\u001b[0m \u001b[32m━━━━━━━━━━━━━━━━━━━━\u001b[0m\u001b[37m\u001b[0m \u001b[1m231s\u001b[0m 214ms/step - accuracy: 0.9890 - loss: 0.0358 - val_accuracy: 0.9896 - val_loss: 0.0338\n",
      "Epoch 4/10\n",
      "\u001b[1m1080/1080\u001b[0m \u001b[32m━━━━━━━━━━━━━━━━━━━━\u001b[0m\u001b[37m\u001b[0m \u001b[1m231s\u001b[0m 214ms/step - accuracy: 0.9901 - loss: 0.0320 - val_accuracy: 0.9903 - val_loss: 0.0316\n",
      "Epoch 5/10\n",
      "\u001b[1m1080/1080\u001b[0m \u001b[32m━━━━━━━━━━━━━━━━━━━━\u001b[0m\u001b[37m\u001b[0m \u001b[1m232s\u001b[0m 215ms/step - accuracy: 0.9907 - loss: 0.0297 - val_accuracy: 0.9905 - val_loss: 0.0306\n",
      "Epoch 6/10\n",
      "\u001b[1m1080/1080\u001b[0m \u001b[32m━━━━━━━━━━━━━━━━━━━━\u001b[0m\u001b[37m\u001b[0m \u001b[1m231s\u001b[0m 214ms/step - accuracy: 0.9911 - loss: 0.0284 - val_accuracy: 0.9907 - val_loss: 0.0303\n",
      "Epoch 7/10\n",
      "\u001b[1m1080/1080\u001b[0m \u001b[32m━━━━━━━━━━━━━━━━━━━━\u001b[0m\u001b[37m\u001b[0m \u001b[1m231s\u001b[0m 214ms/step - accuracy: 0.9915 - loss: 0.0269 - val_accuracy: 0.9910 - val_loss: 0.0292\n",
      "Epoch 8/10\n",
      "\u001b[1m1080/1080\u001b[0m \u001b[32m━━━━━━━━━━━━━━━━━━━━\u001b[0m\u001b[37m\u001b[0m \u001b[1m231s\u001b[0m 214ms/step - accuracy: 0.9918 - loss: 0.0259 - val_accuracy: 0.9910 - val_loss: 0.0290\n",
      "Epoch 9/10\n",
      "\u001b[1m1080/1080\u001b[0m \u001b[32m━━━━━━━━━━━━━━━━━━━━\u001b[0m\u001b[37m\u001b[0m \u001b[1m231s\u001b[0m 214ms/step - accuracy: 0.9922 - loss: 0.0244 - val_accuracy: 0.9913 - val_loss: 0.0280\n",
      "Epoch 10/10\n",
      "\u001b[1m1080/1080\u001b[0m \u001b[32m━━━━━━━━━━━━━━━━━━━━\u001b[0m\u001b[37m\u001b[0m \u001b[1m232s\u001b[0m 215ms/step - accuracy: 0.9924 - loss: 0.0235 - val_accuracy: 0.9913 - val_loss: 0.0281\n"
     ]
    }
   ],
   "source": [
    "history = model.fit(x_train, np.array(y_train), \n",
    "                    validation_split=0.2, \n",
    "                    batch_size=32, \n",
    "                    epochs=10, \n",
    "                    verbose=1)\n"
   ]
  },
  {
   "cell_type": "code",
   "execution_count": 36,
   "id": "150aeb68",
   "metadata": {
    "execution": {
     "iopub.execute_input": "2025-03-25T17:22:54.802833Z",
     "iopub.status.busy": "2025-03-25T17:22:54.802466Z",
     "iopub.status.idle": "2025-03-25T17:23:02.937841Z",
     "shell.execute_reply": "2025-03-25T17:23:02.936784Z"
    },
    "papermill": {
     "duration": 8.66774,
     "end_time": "2025-03-25T17:23:02.939278",
     "exception": false,
     "start_time": "2025-03-25T17:22:54.271538",
     "status": "completed"
    },
    "tags": []
   },
   "outputs": [
    {
     "name": "stdout",
     "output_type": "stream",
     "text": [
      "\u001b[1m150/150\u001b[0m \u001b[32m━━━━━━━━━━━━━━━━━━━━\u001b[0m\u001b[37m\u001b[0m \u001b[1m8s\u001b[0m 53ms/step - accuracy: 0.9913 - loss: 0.0274\n",
      "Test Accuracy: 0.9913\n"
     ]
    }
   ],
   "source": [
    "loss, accuracy = model.evaluate(x_test, y_test)\n",
    "print(f\"Test Accuracy: {accuracy:.4f}\")"
   ]
  },
  {
   "cell_type": "code",
   "execution_count": 37,
   "id": "0a94a980",
   "metadata": {
    "execution": {
     "iopub.execute_input": "2025-03-25T17:23:04.049913Z",
     "iopub.status.busy": "2025-03-25T17:23:04.049360Z",
     "iopub.status.idle": "2025-03-25T17:23:05.270720Z",
     "shell.execute_reply": "2025-03-25T17:23:05.269469Z"
    },
    "papermill": {
     "duration": 1.80103,
     "end_time": "2025-03-25T17:23:05.272066",
     "exception": false,
     "start_time": "2025-03-25T17:23:03.471036",
     "status": "completed"
    },
    "tags": []
   },
   "outputs": [
    {
     "name": "stdout",
     "output_type": "stream",
     "text": [
      "\u001b[1m1/1\u001b[0m \u001b[32m━━━━━━━━━━━━━━━━━━━━\u001b[0m\u001b[37m\u001b[0m \u001b[1m1s\u001b[0m 1s/step\n",
      "Word            (True ): Predicted by our Model\n",
      "----------------------------------------\n",
      "incur          O\t O\n",
      "alienated      O\t O\n",
      "Barcodes       O\t O\n",
      "Halabja        O\t O\n",
      "del            O\t O\n",
      "148            O\t O\n",
      "Verhofstadt    O\t O\n",
      "crept          O\t O\n",
      "Teshiktosh     O\t O\n",
      "highly-competitiveB-geo\t B-geo\n",
      "Tim            O\t O\n",
      "skiers         O\t B-geo\n",
      "hospitalizationO\t O\n",
      "York-based     O\t O\n",
      "limited        O\t O\n",
      "defaced        O\t O\n",
      "signed         O\t O\n",
      "insurgent-relatedO\t O\n",
      "Arafura        O\t O\n",
      "Luay           O\t O\n",
      "Moussaieff     O\t O\n",
      "Xinjuan        O\t O\n",
      "Gazprom        B-nat\t B-nat\n",
      "Gazprom        B-nat\t B-nat\n",
      "Gazprom        B-nat\t B-nat\n",
      "Gazprom        B-nat\t B-nat\n",
      "Gazprom        B-nat\t B-nat\n",
      "Gazprom        B-nat\t B-nat\n",
      "Gazprom        B-nat\t B-nat\n",
      "Gazprom        B-nat\t B-nat\n",
      "Gazprom        B-nat\t B-nat\n",
      "Gazprom        B-nat\t B-nat\n",
      "Gazprom        B-nat\t B-nat\n",
      "Gazprom        B-nat\t B-nat\n",
      "Gazprom        B-nat\t B-nat\n",
      "Gazprom        B-nat\t B-nat\n",
      "Gazprom        B-nat\t B-nat\n",
      "Gazprom        B-nat\t B-nat\n",
      "Gazprom        B-nat\t B-nat\n",
      "Gazprom        B-nat\t B-nat\n",
      "Gazprom        B-nat\t B-nat\n",
      "Gazprom        B-nat\t B-nat\n",
      "Gazprom        B-nat\t B-nat\n",
      "Gazprom        B-nat\t B-nat\n",
      "Gazprom        B-nat\t B-nat\n",
      "Gazprom        B-nat\t B-nat\n",
      "Gazprom        B-nat\t B-nat\n",
      "Gazprom        B-nat\t B-nat\n",
      "Gazprom        B-nat\t B-nat\n",
      "Gazprom        B-nat\t B-nat\n",
      "Gazprom        B-nat\t B-nat\n",
      "Gazprom        B-nat\t B-nat\n",
      "Gazprom        B-nat\t B-nat\n",
      "Gazprom        B-nat\t B-nat\n",
      "Gazprom        B-nat\t B-nat\n",
      "Gazprom        B-nat\t B-nat\n",
      "Gazprom        B-nat\t B-nat\n",
      "Gazprom        B-nat\t B-nat\n",
      "Gazprom        B-nat\t B-nat\n",
      "Gazprom        B-nat\t B-nat\n",
      "Gazprom        B-nat\t B-nat\n",
      "Gazprom        B-nat\t B-nat\n",
      "Gazprom        B-nat\t B-nat\n",
      "Gazprom        B-nat\t B-nat\n",
      "Gazprom        B-nat\t B-nat\n",
      "Gazprom        B-nat\t B-nat\n",
      "Gazprom        B-nat\t B-nat\n",
      "Gazprom        B-nat\t B-nat\n",
      "Gazprom        B-nat\t B-nat\n",
      "Gazprom        B-nat\t B-nat\n",
      "Gazprom        B-nat\t B-nat\n",
      "Gazprom        B-nat\t B-nat\n",
      "Gazprom        B-nat\t B-nat\n",
      "Gazprom        B-nat\t B-nat\n",
      "Gazprom        B-nat\t B-nat\n",
      "Gazprom        B-nat\t B-nat\n",
      "Gazprom        B-nat\t B-nat\n",
      "Gazprom        B-nat\t B-nat\n",
      "Gazprom        B-nat\t B-nat\n",
      "Gazprom        B-nat\t B-nat\n",
      "Gazprom        B-nat\t B-nat\n",
      "Gazprom        B-nat\t B-nat\n",
      "Gazprom        B-nat\t B-nat\n",
      "Gazprom        B-nat\t B-nat\n",
      "Gazprom        B-nat\t B-nat\n",
      "Gazprom        B-nat\t B-nat\n",
      "Gazprom        B-nat\t B-nat\n",
      "Gazprom        B-nat\t B-nat\n",
      "Gazprom        B-nat\t B-nat\n",
      "Gazprom        B-nat\t B-nat\n",
      "Gazprom        B-nat\t B-nat\n",
      "Gazprom        B-nat\t B-nat\n",
      "Gazprom        B-nat\t B-nat\n",
      "Gazprom        B-nat\t B-nat\n",
      "Gazprom        B-nat\t B-nat\n",
      "Gazprom        B-nat\t B-nat\n",
      "Gazprom        B-nat\t B-nat\n",
      "Gazprom        B-nat\t B-nat\n",
      "Gazprom        B-nat\t B-nat\n",
      "Gazprom        B-nat\t B-nat\n",
      "Gazprom        B-nat\t B-nat\n",
      "Gazprom        B-nat\t B-nat\n",
      "Gazprom        B-nat\t B-nat\n",
      "Gazprom        B-nat\t B-nat\n"
     ]
    }
   ],
   "source": [
    "i = np.random.randint(0,x_test.shape[0])\n",
    "p = model.predict(np.array([x_test[i]]))\n",
    "p = np.argmax(p, axis=-1)\n",
    "\n",
    "y_true=np.argmax(np.array(y_test),axis=-1)[i]\n",
    "print(\"{:15} ({:5}): {}\".format(\"Word\", \"True\", \"Predicted by our Model\"))\n",
    "\n",
    "print(\"--\"*20)\n",
    "\n",
    "for w,true,pred in zip(x_test[i],y_true,p[0]):\n",
    "    print(\"{:15}{}\\t {}\".format(words[w-1],tags[true],tags[pred]))"
   ]
  },
  {
   "cell_type": "code",
   "execution_count": null,
   "id": "bc45a197",
   "metadata": {
    "papermill": {
     "duration": 0.578568,
     "end_time": "2025-03-25T17:23:06.377772",
     "exception": false,
     "start_time": "2025-03-25T17:23:05.799204",
     "status": "completed"
    },
    "tags": []
   },
   "outputs": [],
   "source": []
  }
 ],
 "metadata": {
  "kaggle": {
   "accelerator": "nvidiaTeslaT4",
   "dataSources": [
    {
     "datasetId": 1014,
     "sourceId": 4361,
     "sourceType": "datasetVersion"
    }
   ],
   "dockerImageVersionId": 30886,
   "isGpuEnabled": true,
   "isInternetEnabled": true,
   "language": "python",
   "sourceType": "notebook"
  },
  "kernelspec": {
   "display_name": "Python 3",
   "language": "python",
   "name": "python3"
  },
  "language_info": {
   "codemirror_mode": {
    "name": "ipython",
    "version": 3
   },
   "file_extension": ".py",
   "mimetype": "text/x-python",
   "name": "python",
   "nbconvert_exporter": "python",
   "pygments_lexer": "ipython3",
   "version": "3.10.12"
  },
  "papermill": {
   "default_parameters": {},
   "duration": 2402.627307,
   "end_time": "2025-03-25T17:23:10.281586",
   "environment_variables": {},
   "exception": null,
   "input_path": "__notebook__.ipynb",
   "output_path": "__notebook__.ipynb",
   "parameters": {},
   "start_time": "2025-03-25T16:43:07.654279",
   "version": "2.6.0"
  }
 },
 "nbformat": 4,
 "nbformat_minor": 5
}
